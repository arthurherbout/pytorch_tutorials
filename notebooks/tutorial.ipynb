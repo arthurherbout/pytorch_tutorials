{
 "cells": [
  {
   "cell_type": "code",
   "execution_count": 1,
   "id": "a35a3631-b3fe-410b-8f5c-d4a05c812377",
   "metadata": {},
   "outputs": [],
   "source": [
    "import torch"
   ]
  },
  {
   "cell_type": "code",
   "execution_count": 2,
   "id": "4384064a-e71a-4406-a549-0bea0849efe9",
   "metadata": {},
   "outputs": [],
   "source": [
    "from torch import nn"
   ]
  },
  {
   "cell_type": "code",
   "execution_count": 3,
   "id": "201407bf-38a0-4f2c-8ec8-158f1c9e3076",
   "metadata": {},
   "outputs": [
    {
     "data": {
      "text/plain": [
       "True"
      ]
     },
     "execution_count": 3,
     "metadata": {},
     "output_type": "execute_result"
    }
   ],
   "source": [
    "torch.backends.mps.is_available()"
   ]
  },
  {
   "cell_type": "code",
   "execution_count": 4,
   "id": "08f26b8c-78a6-4f4f-bd93-35a4ec514eb8",
   "metadata": {},
   "outputs": [],
   "source": [
    "import sys"
   ]
  },
  {
   "cell_type": "code",
   "execution_count": 5,
   "id": "ef69675b-9632-432f-a2f5-c27403c02e2d",
   "metadata": {},
   "outputs": [],
   "source": [
    "sys.path.append(\"..\")"
   ]
  },
  {
   "cell_type": "code",
   "execution_count": 6,
   "id": "bd1df849-c1ca-43d3-9da7-24a80309a569",
   "metadata": {},
   "outputs": [],
   "source": [
    "import utils"
   ]
  },
  {
   "cell_type": "code",
   "execution_count": 7,
   "id": "b126f88d-f2b9-458e-b4f8-181ab5214126",
   "metadata": {},
   "outputs": [],
   "source": [
    "device = utils.get_device_for_training()"
   ]
  },
  {
   "cell_type": "code",
   "execution_count": 8,
   "id": "67282e90-dba4-49de-bd6f-1cae839df749",
   "metadata": {},
   "outputs": [],
   "source": [
    "from fashion_mnist import model"
   ]
  },
  {
   "cell_type": "code",
   "execution_count": 9,
   "id": "89417f4e-2522-46f4-ad93-8dca557c0391",
   "metadata": {},
   "outputs": [],
   "source": [
    "neural_network = model.FashionMnistNetwork(n_hidden_features=512).to(device)"
   ]
  },
  {
   "cell_type": "code",
   "execution_count": 10,
   "id": "a3640924-f6e5-4b51-961b-389a3c955eaa",
   "metadata": {},
   "outputs": [
    {
     "name": "stdout",
     "output_type": "stream",
     "text": [
      "FashionMnistNetwork(\n",
      "  (flatten): Flatten(start_dim=1, end_dim=-1)\n",
      "  (linear_relu_stack): Sequential(\n",
      "    (0): Linear(in_features=784, out_features=512, bias=True)\n",
      "    (1): ReLU()\n",
      "    (2): Linear(in_features=512, out_features=512, bias=True)\n",
      "    (3): ReLU()\n",
      "    (4): Linear(in_features=512, out_features=10, bias=True)\n",
      "  )\n",
      ")\n"
     ]
    }
   ],
   "source": [
    "print(neural_network)"
   ]
  },
  {
   "cell_type": "markdown",
   "id": "c2cb462e-4941-4cf3-b087-776a48e8a857",
   "metadata": {},
   "source": [
    "# example"
   ]
  },
  {
   "cell_type": "code",
   "execution_count": 11,
   "id": "167b7307-16b2-47a9-855a-375f0cedb01e",
   "metadata": {},
   "outputs": [
    {
     "name": "stdout",
     "output_type": "stream",
     "text": [
      "Predicted class: tensor([7], device='mps:0')\n"
     ]
    }
   ],
   "source": [
    "X = torch.rand(1, 28, 28, device=device)\n",
    "logits = neural_network(X)\n",
    "pred_probab = nn.Softmax(dim=1)(logits)\n",
    "y_pred = pred_probab.argmax(1)\n",
    "print(f\"Predicted class: {y_pred}\")"
   ]
  },
  {
   "cell_type": "code",
   "execution_count": 12,
   "id": "e13c0a0e-e82e-4e71-b8ca-cac780a6989e",
   "metadata": {},
   "outputs": [
    {
     "name": "stdout",
     "output_type": "stream",
     "text": [
      "Layer: linear_relu_stack.0.weight | Size: torch.Size([512, 784])\n",
      "Layer: linear_relu_stack.0.bias | Size: torch.Size([512])\n",
      "Layer: linear_relu_stack.2.weight | Size: torch.Size([512, 512])\n",
      "Layer: linear_relu_stack.2.bias | Size: torch.Size([512])\n",
      "Layer: linear_relu_stack.4.weight | Size: torch.Size([10, 512])\n",
      "Layer: linear_relu_stack.4.bias | Size: torch.Size([10])\n",
      "\n"
     ]
    }
   ],
   "source": [
    "print(utils.report_model_parameters(model=neural_network))"
   ]
  },
  {
   "cell_type": "code",
   "execution_count": 13,
   "id": "f72e49cb-dcb8-4a27-bacf-72e49f30fa4f",
   "metadata": {},
   "outputs": [
    {
     "name": "stdout",
     "output_type": "stream",
     "text": [
      "linear_relu_stack.0.weight <built-in method size of Parameter object at 0x107dd5a90>\n",
      "linear_relu_stack.0.bias <built-in method size of Parameter object at 0x12fd8e620>\n",
      "linear_relu_stack.2.weight <built-in method size of Parameter object at 0x12fd1b250>\n",
      "linear_relu_stack.2.bias <built-in method size of Parameter object at 0x13c104690>\n",
      "linear_relu_stack.4.weight <built-in method size of Parameter object at 0x13c104320>\n",
      "linear_relu_stack.4.bias <built-in method size of Parameter object at 0x13b504a50>\n"
     ]
    }
   ],
   "source": [
    "for name, param in neural_network.named_parameters():\n",
    "    print(name, param.size)"
   ]
  },
  {
   "cell_type": "code",
   "execution_count": 14,
   "id": "d175eb66-ab79-43f3-9451-287b13012811",
   "metadata": {},
   "outputs": [
    {
     "data": {
      "text/plain": [
       "True"
      ]
     },
     "execution_count": 14,
     "metadata": {},
     "output_type": "execute_result"
    }
   ],
   "source": [
    "torch.backends.mps.is_built()"
   ]
  },
  {
   "cell_type": "code",
   "execution_count": null,
   "id": "84bcdf35-8bda-402d-9a3a-d495aa9355c7",
   "metadata": {},
   "outputs": [],
   "source": []
  }
 ],
 "metadata": {
  "kernelspec": {
   "display_name": "Python 3 (ipykernel)",
   "language": "python",
   "name": "python3"
  },
  "language_info": {
   "codemirror_mode": {
    "name": "ipython",
    "version": 3
   },
   "file_extension": ".py",
   "mimetype": "text/x-python",
   "name": "python",
   "nbconvert_exporter": "python",
   "pygments_lexer": "ipython3",
   "version": "3.11.4"
  }
 },
 "nbformat": 4,
 "nbformat_minor": 5
}
